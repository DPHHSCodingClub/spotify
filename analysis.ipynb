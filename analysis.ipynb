{
 "cells": [
  {
   "cell_type": "markdown",
   "metadata": {
    "id": "bVldMVJIV71m"
   },
   "source": [
    "# Visualizing Spotify data with Python\n",
    "\n",
    "We will use Matplotlib and Numpy to inspect and learn something about a collection of top hits from Spotify!\n",
    "\n",
    "Before starting this notebook, you should have already gone through the [introduction to Matplotlib](https://github.com/DPHHSCodingClub/DataVisualization), or you should be already familiar with Matplotlib's main functions in Pyplot, such as `plt.plot` and `plt.scatter`."
   ]
  },
  {
   "cell_type": "markdown",
   "metadata": {
    "id": "oeqQnrO0cOU9"
   },
   "source": [
    "# Code libraries\n",
    "First, let's import the two libraries `matplotlib.pyplot` and `numpy` by typing \n",
    "\n",
    "```\n",
    "import matplotlib.pyplot as plt\n",
    "import numpy as np\n",
    "```\n",
    "in the code box below. Then press <kbd>Shift</kbd>+<kbd>Enter</kbd>, or the ▶️ button in the top bar, to execute the code.  When a number appears in the square brackets left of the cell, like `In [1]:`, we are ready to continue."
   ]
  },
  {
   "cell_type": "code",
   "execution_count": null,
   "metadata": {},
   "outputs": [],
   "source": []
  },
  {
   "cell_type": "markdown",
   "metadata": {},
   "source": [
    "# Visualizing Spotify top hits with scatter plots and histograms\n",
    "\n",
    "In the left sidebar, double click the `dat` folder.  You should see a bunch of files ending with `.json`, which contain our raw data (you might need to expand the sidebar to see the full names).\n",
    "\n",
    "What does Spotify think about your favorite songs?  Are they energetic?  Is their emotional valence positive or negative?  How popular are they right now?\n",
    "\n",
    "Useful links:\n",
    "* Example plots you can make: https://matplotlib.org/stable/gallery/index.html\n",
    "* Information about audio features: https://developer.spotify.com/documentation/web-api/reference/#/operations/get-audio-features"
   ]
  },
  {
   "cell_type": "markdown",
   "metadata": {},
   "source": [
    "## What is in the Spotify data?\n",
    "\n",
    "#### We will use a home-made code library called `coding_club`, which comes with this notebook already.\n",
    "\n",
    "We'll only use one function in this library, `coding_club.load(...)`, which creates a new Playlist object.  You will save the Playlist object to a variable.\n",
    "\n",
    "The playlist itself, accessed via your new variable, has two functions: `show_data`, `get`.  Let's see how they are used below."
   ]
  },
  {
   "cell_type": "code",
   "execution_count": null,
   "metadata": {
    "execution": {
     "iopub.execute_input": "2022-06-05T19:16:26.620029Z",
     "iopub.status.busy": "2022-06-05T19:16:26.619644Z",
     "iopub.status.idle": "2022-06-05T19:16:26.633358Z",
     "shell.execute_reply": "2022-06-05T19:16:26.632314Z",
     "shell.execute_reply.started": "2022-06-05T19:16:26.619986Z"
    },
    "scrolled": true
   },
   "outputs": [],
   "source": [
    "import coding_club"
   ]
  },
  {
   "cell_type": "code",
   "execution_count": null,
   "metadata": {
    "execution": {
     "iopub.execute_input": "2022-06-05T19:16:28.974537Z",
     "iopub.status.busy": "2022-06-05T19:16:28.974235Z",
     "iopub.status.idle": "2022-06-05T19:16:28.986771Z",
     "shell.execute_reply": "2022-06-05T19:16:28.985784Z",
     "shell.execute_reply.started": "2022-06-05T19:16:28.974505Z"
    },
    "scrolled": true
   },
   "outputs": [],
   "source": [
    "p = coding_club.load(\"top_hits_2021.json\")"
   ]
  },
  {
   "cell_type": "code",
   "execution_count": null,
   "metadata": {
    "execution": {
     "iopub.execute_input": "2022-06-05T19:16:29.6538Z",
     "iopub.status.busy": "2022-06-05T19:16:29.653471Z",
     "iopub.status.idle": "2022-06-05T19:16:29.879746Z",
     "shell.execute_reply": "2022-06-05T19:16:29.877353Z",
     "shell.execute_reply.started": "2022-06-05T19:16:29.653767Z"
    },
    "scrolled": true
   },
   "outputs": [],
   "source": [
    "p.show_data()"
   ]
  },
  {
   "cell_type": "code",
   "execution_count": null,
   "metadata": {
    "execution": {
     "iopub.execute_input": "2022-06-05T19:16:31.832496Z",
     "iopub.status.busy": "2022-06-05T19:16:31.832173Z",
     "iopub.status.idle": "2022-06-05T19:16:31.837816Z",
     "shell.execute_reply": "2022-06-05T19:16:31.837056Z",
     "shell.execute_reply.started": "2022-06-05T19:16:31.832461Z"
    },
    "scrolled": true
   },
   "outputs": [],
   "source": [
    "danceability = p.get(\"danceability\")"
   ]
  },
  {
   "cell_type": "code",
   "execution_count": null,
   "metadata": {
    "execution": {
     "iopub.execute_input": "2022-06-05T19:16:33.005315Z",
     "iopub.status.busy": "2022-06-05T19:16:33.004285Z",
     "iopub.status.idle": "2022-06-05T19:16:33.011004Z",
     "shell.execute_reply": "2022-06-05T19:16:33.010179Z",
     "shell.execute_reply.started": "2022-06-05T19:16:33.005241Z"
    }
   },
   "outputs": [],
   "source": [
    "print(danceability)"
   ]
  },
  {
   "cell_type": "markdown",
   "metadata": {},
   "source": [
    "# Here is an explanation of all the features you can look at.\n",
    "\n",
    "The audio analysis features are (copied and modified from Spotify documentation):\n",
    "\n",
    "* __acousticness__: a confidence measure from 0.0 to 1.0 of whether the track is acoustic. 1.0 represents high confidence the track is acoustic.\n",
    "* __danceability__: describes how suitable a track is for dancing based on a combination of musical elements including tempo, rhythm stability, beat strength, and overall regularity. A value of 0.0 is least danceable and 1.0 is most danceable.\n",
    "* __duration_ms__: the duration of the track in milliseconds.\n",
    "* __energy__: a measure from 0.0 to 1.0 and represents a perceptual measure of intensity and activity. Typically, energetic tracks feel fast, loud, and noisy. For example, death metal has high energy, while a Bach prelude scores low on the scale. Perceptual features contributing to this attribute include dynamic range, perceived loudness, timbre, onset rate, and general entropy.\n",
    "* __instrumentalness__: predicts whether a track contains no vocals. \"Ooh\" and \"aah\" sounds are treated as instrumental in this context. Rap or spoken word tracks are clearly \"vocal\". The closer the instrumentalness value is to 1.0, the greater likelihood the track contains no vocal content. Values above 0.5 are intended to represent instrumental tracks, but confidence is higher as the value approaches 1.0.\n",
    "* __key__: the key the track is in. Integers map to pitches using standard Pitch Class notation. E.g. 0 = C, 1 = Csharp/Dflat, 2 = D, and so on to 11 = B. If no key was detected, the value is -1.\n",
    "* __liveness__: detects the presence of an audience in the recording. Higher liveness values represent an increased probability that the track was performed live. A value above 0.8 provides strong likelihood that the track is live.\n",
    "* __loudness__: the overall loudness of a track in decibels (dB). Loudness values are averaged across the entire track and are useful for comparing relative loudness of tracks. Loudness is the quality of a sound that is the primary psychological correlate of physical strength (amplitude). Values typically range between -60 and 0 db.\n",
    "* __mode__: the modality (major or minor) of a track, the type of scale from which its melodic content is derived. Major is represented by 1 and minor is 0.\n",
    "* __speechiness__: detects the presence of spoken words in a track. The more exclusively speech-like the recording (e.g. talk show, audio book, poetry), the closer to 1.0 the attribute value. Values above 0.66 describe tracks that are probably made entirely of spoken words. Values between 0.33 and 0.66 describe tracks that may contain both music and speech, either in sections or layered, including such cases as rap music. Values below 0.33 most likely represent music and other non-speech-like tracks.\n",
    "* __tempo__: the overall estimated tempo of a track in beats per minute (BPM). In musical terminology, tempo is the speed or pace of a given piece and derives directly from the average beat duration.\n",
    "* __time_signature__: an estimated time signature. The time signature (meter) is a notational convention to specify how many beats are in each bar (or measure). The time signature ranges from 3 to 7 indicating time signatures of \"3/4\", to \"7/4\".\n",
    "* __valence__: a measure from 0.0 to 1.0 describing the musical positiveness conveyed by a track. Tracks with high valence sound more positive (e.g. happy, cheerful, euphoric), while tracks with low valence sound more negative (e.g. sad, depressed, angry).\n",
    "\n",
    "The code also provides:\n",
    "\n",
    "* __album__: the album name\n",
    "* __artist__: the name of the first artist listed in the credits (other artists are omitted)\n",
    "* __explicit__: is the track explicit?\n",
    "* __popularity__: a value between 0 and 100, with 100 being the most popular. The popularity is calculated by algorithm and is based, in the most part, on the total number of plays the track has had and how recent those plays are.  Generally speaking, songs that are being played a lot now will have a higher popularity than songs that were played a lot in the past. Duplicate tracks (e.g. the same track from a single and an album) are rated independently. Artist and album popularity is derived mathematically from track popularity. Note: the popularity value may lag actual popularity by a few days: the value is not updated in real time.\n",
    "* __name__: the track name"
   ]
  },
  {
   "cell_type": "code",
   "execution_count": null,
   "metadata": {
    "execution": {
     "iopub.execute_input": "2022-06-05T19:16:35.70517Z",
     "iopub.status.busy": "2022-06-05T19:16:35.704841Z",
     "iopub.status.idle": "2022-06-05T19:16:35.709825Z",
     "shell.execute_reply": "2022-06-05T19:16:35.708924Z",
     "shell.execute_reply.started": "2022-06-05T19:16:35.705137Z"
    }
   },
   "outputs": [],
   "source": [
    "#acousticness = p.get(\"acousticness\")\n",
    "#energy       = p.get(\"energy\")\n",
    "key          = p.get(\"key\")\n",
    "#mode         = p.get(\"mode\")\n",
    "#speechiness  = p.get(\"speechiness\")\n",
    "#tempo        = p.get(\"tempo\")\n",
    "valence      = p.get(\"valence\")"
   ]
  },
  {
   "cell_type": "code",
   "execution_count": null,
   "metadata": {
    "execution": {
     "iopub.execute_input": "2022-06-05T19:16:37.225169Z",
     "iopub.status.busy": "2022-06-05T19:16:37.224566Z",
     "iopub.status.idle": "2022-06-05T19:16:37.45286Z",
     "shell.execute_reply": "2022-06-05T19:16:37.451895Z",
     "shell.execute_reply.started": "2022-06-05T19:16:37.225127Z"
    }
   },
   "outputs": [],
   "source": [
    "plt.scatter(valence, danceability)\n",
    "plt.xlim(0, 1)\n",
    "plt.ylim(0, 1)\n",
    "plt.xlabel(\"Valence\")\n",
    "plt.ylabel(\"Danceability\")\n",
    "plt.show()"
   ]
  },
  {
   "cell_type": "code",
   "execution_count": null,
   "metadata": {
    "execution": {
     "iopub.execute_input": "2022-06-05T19:16:38.666207Z",
     "iopub.status.busy": "2022-06-05T19:16:38.665799Z",
     "iopub.status.idle": "2022-06-05T19:16:39.041201Z",
     "shell.execute_reply": "2022-06-05T19:16:39.040255Z",
     "shell.execute_reply.started": "2022-06-05T19:16:38.666167Z"
    }
   },
   "outputs": [],
   "source": [
    "plt.hist(key, range=(-0.5,11.5), bins=12)\n",
    "plt.xticks(\n",
    "    ticks=[0,1,2,3,4,5,6,7,8,9,10,11],\n",
    "    labels=['C', 'D♭', 'D', 'E♭', 'E', 'F', 'G♭', 'G', 'A♭', 'A', 'B♭', 'B'],\n",
    ")\n",
    "plt.show()"
   ]
  },
  {
   "cell_type": "markdown",
   "metadata": {},
   "source": [
    "# Example of something more complicated.\n",
    "\n",
    "#### Question: are popular songs getting more or less danceable over time?"
   ]
  },
  {
   "cell_type": "code",
   "execution_count": null,
   "metadata": {
    "execution": {
     "iopub.execute_input": "2022-06-05T19:16:41.700985Z",
     "iopub.status.busy": "2022-06-05T19:16:41.699863Z",
     "iopub.status.idle": "2022-06-05T19:16:41.716906Z",
     "shell.execute_reply": "2022-06-05T19:16:41.716118Z",
     "shell.execute_reply.started": "2022-06-05T19:16:41.700922Z"
    }
   },
   "outputs": [],
   "source": [
    "p = coding_club.load(\"top_hits_2020.json\")\n",
    "song_names = p.get('name')\n",
    "danceability = p.get('danceability')"
   ]
  },
  {
   "cell_type": "code",
   "execution_count": null,
   "metadata": {
    "execution": {
     "iopub.execute_input": "2022-06-05T19:16:42.375954Z",
     "iopub.status.busy": "2022-06-05T19:16:42.375157Z",
     "iopub.status.idle": "2022-06-05T19:16:42.381685Z",
     "shell.execute_reply": "2022-06-05T19:16:42.38054Z",
     "shell.execute_reply.started": "2022-06-05T19:16:42.375909Z"
    }
   },
   "outputs": [],
   "source": [
    "print(song_names)"
   ]
  },
  {
   "cell_type": "code",
   "execution_count": null,
   "metadata": {
    "execution": {
     "iopub.execute_input": "2022-06-05T19:16:43.689293Z",
     "iopub.status.busy": "2022-06-05T19:16:43.688962Z",
     "iopub.status.idle": "2022-06-05T19:16:43.695031Z",
     "shell.execute_reply": "2022-06-05T19:16:43.693759Z",
     "shell.execute_reply.started": "2022-06-05T19:16:43.689259Z"
    }
   },
   "outputs": [],
   "source": [
    "mean_d = np.mean(danceability)\n",
    "stdev_d = np.std(danceability)"
   ]
  },
  {
   "cell_type": "code",
   "execution_count": null,
   "metadata": {
    "execution": {
     "iopub.execute_input": "2022-06-05T19:16:44.257447Z",
     "iopub.status.busy": "2022-06-05T19:16:44.256929Z",
     "iopub.status.idle": "2022-06-05T19:16:44.262955Z",
     "shell.execute_reply": "2022-06-05T19:16:44.262272Z",
     "shell.execute_reply.started": "2022-06-05T19:16:44.257409Z"
    }
   },
   "outputs": [],
   "source": [
    "print(mean_d)"
   ]
  },
  {
   "cell_type": "code",
   "execution_count": null,
   "metadata": {
    "execution": {
     "iopub.execute_input": "2022-06-05T19:16:44.845161Z",
     "iopub.status.busy": "2022-06-05T19:16:44.844606Z",
     "iopub.status.idle": "2022-06-05T19:16:44.851462Z",
     "shell.execute_reply": "2022-06-05T19:16:44.850244Z",
     "shell.execute_reply.started": "2022-06-05T19:16:44.84512Z"
    }
   },
   "outputs": [],
   "source": [
    "print(stdev_d)"
   ]
  },
  {
   "cell_type": "code",
   "execution_count": null,
   "metadata": {
    "execution": {
     "iopub.execute_input": "2022-06-05T19:16:46.127805Z",
     "iopub.status.busy": "2022-06-05T19:16:46.126975Z",
     "iopub.status.idle": "2022-06-05T19:16:46.339105Z",
     "shell.execute_reply": "2022-06-05T19:16:46.337952Z",
     "shell.execute_reply.started": "2022-06-05T19:16:46.127758Z"
    }
   },
   "outputs": [],
   "source": [
    "plt.hist(danceability, bins=20, range=(0,1))\n",
    "plt.axvline(mean_d - stdev_d, color='black')\n",
    "plt.axvline(mean_d,           color='black')\n",
    "plt.axvline(mean_d + stdev_d, color='black')\n",
    "plt.show()"
   ]
  },
  {
   "cell_type": "markdown",
   "metadata": {},
   "source": [
    "## Calculate the mean danceability for 1970, 1980, 1990, 2000, . . . and save it in a list"
   ]
  },
  {
   "cell_type": "code",
   "execution_count": null,
   "metadata": {
    "execution": {
     "iopub.execute_input": "2022-06-05T19:16:47.776646Z",
     "iopub.status.busy": "2022-06-05T19:16:47.7763Z",
     "iopub.status.idle": "2022-06-05T19:16:47.782651Z",
     "shell.execute_reply": "2022-06-05T19:16:47.781094Z",
     "shell.execute_reply.started": "2022-06-05T19:16:47.776612Z"
    }
   },
   "outputs": [],
   "source": [
    "years = [1970, 1980, 1990, 2000, 2010, 2020]\n",
    "data = []  # we need to populate this list\n",
    "data_stdev = []"
   ]
  },
  {
   "cell_type": "code",
   "execution_count": null,
   "metadata": {
    "execution": {
     "iopub.execute_input": "2022-06-05T19:16:48.796631Z",
     "iopub.status.busy": "2022-06-05T19:16:48.796288Z",
     "iopub.status.idle": "2022-06-05T19:16:48.841897Z",
     "shell.execute_reply": "2022-06-05T19:16:48.841167Z",
     "shell.execute_reply.started": "2022-06-05T19:16:48.796599Z"
    }
   },
   "outputs": [],
   "source": [
    "for year in years:\n",
    "    \n",
    "    # load the playlist information from a given year\n",
    "    filename = \"top_hits_\" + str(year) + \".json\"\n",
    "    p = coding_club.load(filename)\n",
    "    \n",
    "    # get the danceability of all songs on that playlist,\n",
    "    # then calculate the average (aka mean) danceability\n",
    "    danceability = p.get('danceability')\n",
    "    \n",
    "    # calculate the mean danceability, for the current year,\n",
    "    # and put it into our list of data\n",
    "    mean_d = np.mean(danceability)\n",
    "    data.append(mean_d)\n",
    "    \n",
    "    # calculate the standard deviation of danceability, for the current year,\n",
    "    # and put it into another list of data\n",
    "    stdev_d = np.std(danceability)\n",
    "    data_stdev.append(stdev_d)"
   ]
  },
  {
   "cell_type": "code",
   "execution_count": null,
   "metadata": {
    "execution": {
     "iopub.execute_input": "2022-06-05T19:16:50.032773Z",
     "iopub.status.busy": "2022-06-05T19:16:50.032323Z",
     "iopub.status.idle": "2022-06-05T19:16:50.223356Z",
     "shell.execute_reply": "2022-06-05T19:16:50.222503Z",
     "shell.execute_reply.started": "2022-06-05T19:16:50.032723Z"
    }
   },
   "outputs": [],
   "source": [
    "plt.plot(years, data)\n",
    "plt.xlabel('Year')\n",
    "plt.ylabel('Mean danceability')\n",
    "plt.show()"
   ]
  },
  {
   "cell_type": "code",
   "execution_count": null,
   "metadata": {
    "execution": {
     "iopub.execute_input": "2022-06-05T19:16:50.986728Z",
     "iopub.status.busy": "2022-06-05T19:16:50.986408Z",
     "iopub.status.idle": "2022-06-05T19:16:51.167437Z",
     "shell.execute_reply": "2022-06-05T19:16:51.166598Z",
     "shell.execute_reply.started": "2022-06-05T19:16:50.986688Z"
    }
   },
   "outputs": [],
   "source": [
    "plt.errorbar(years, data, yerr=data_stdev)\n",
    "plt.xlabel('Year')\n",
    "plt.ylabel('Mean danceability')\n",
    "plt.show()"
   ]
  },
  {
   "cell_type": "code",
   "execution_count": null,
   "metadata": {
    "execution": {
     "iopub.execute_input": "2022-06-05T19:16:52.443735Z",
     "iopub.status.busy": "2022-06-05T19:16:52.443423Z",
     "iopub.status.idle": "2022-06-05T19:16:52.451917Z",
     "shell.execute_reply": "2022-06-05T19:16:52.451263Z",
     "shell.execute_reply.started": "2022-06-05T19:16:52.443698Z"
    }
   },
   "outputs": [],
   "source": [
    "p_old = coding_club.load(\"top_hits_1970.json\")\n",
    "p_new = coding_club.load(\"top_hits_2020.json\")"
   ]
  },
  {
   "cell_type": "code",
   "execution_count": null,
   "metadata": {
    "execution": {
     "iopub.execute_input": "2022-06-05T19:16:53.092049Z",
     "iopub.status.busy": "2022-06-05T19:16:53.090021Z",
     "iopub.status.idle": "2022-06-05T19:16:53.097501Z",
     "shell.execute_reply": "2022-06-05T19:16:53.096571Z",
     "shell.execute_reply.started": "2022-06-05T19:16:53.092001Z"
    }
   },
   "outputs": [],
   "source": [
    "artists = p_old.get('artist')\n",
    "print(artists)"
   ]
  },
  {
   "cell_type": "code",
   "execution_count": null,
   "metadata": {
    "execution": {
     "iopub.execute_input": "2022-06-05T19:16:53.696431Z",
     "iopub.status.busy": "2022-06-05T19:16:53.695649Z",
     "iopub.status.idle": "2022-06-05T19:16:53.701362Z",
     "shell.execute_reply": "2022-06-05T19:16:53.700494Z",
     "shell.execute_reply.started": "2022-06-05T19:16:53.696379Z"
    }
   },
   "outputs": [],
   "source": [
    "artists = p_new.get('artist')\n",
    "print(artists)"
   ]
  }
 ],
 "metadata": {
  "kernelspec": {
   "display_name": "Python 3 (ipykernel)",
   "language": "python",
   "name": "python3"
  },
  "language_info": {
   "codemirror_mode": {
    "name": "ipython",
    "version": 3
   },
   "file_extension": ".py",
   "mimetype": "text/x-python",
   "name": "python",
   "nbconvert_exporter": "python",
   "pygments_lexer": "ipython3",
   "version": "3.9.7"
  }
 },
 "nbformat": 4,
 "nbformat_minor": 4
}
